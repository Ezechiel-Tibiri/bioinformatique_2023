{
 "cells": [
  {
   "cell_type": "markdown",
   "id": "d3664227-664b-411a-9e41-a152f8bcac0b",
   "metadata": {},
   "source": [
    "# Introduction à la programmation en bioinformatique"
   ]
  },
  {
   "cell_type": "markdown",
   "id": "bda9bcae-f50e-4504-93fa-e8719ba738de",
   "metadata": {},
   "source": [
    "## installer Cygwin sous Windows"
   ]
  },
  {
   "cell_type": "markdown",
   "id": "6ee85180-c352-40a7-98a2-8bcdf75fa59d",
   "metadata": {},
   "source": [
    "Vous pouvez installer Cygwin sous Windows en suivant ces étapes :\n",
    "\n",
    "    1. Téléchargez le fichier d'installation de Cygwin depuis le site web de Cygwin à l'adresse https://cygwin.com/install.html.\n",
    "\n",
    "    2. Double-cliquez sur le fichier d'installation pour lancer l'assistant d'installation.\n",
    "\n",
    "    3. Choisissez un répertoire d'installation pour Cygwin. Par défaut, il est installé dans C:\\cygwin.\n",
    "\n",
    "    4. Choisissez un serveur de miroir Cygwin pour télécharger les paquets. Il est recommandé de choisir un serveur proche de votre emplacement géographique.\n",
    "\n",
    "    5. Sélectionnez les paquets à installer en utilisant le bouton \"Sélectionner les paquets\" dans l'assistant d'installation. Il est recommandé de sélectionner les paquets de base, tels que bash, gcc, make et openssh.\n",
    "\n",
    "    6. Cliquez sur le bouton \"Installer\" pour démarrer le processus d'installation.\n",
    "\n",
    "    7. Une fois l'installation terminée, lancez le terminal Cygwin en cliquant sur le raccourci \"Cygwin Terminal\" sur le bureau ou dans le menu Démarrer."
   ]
  },
  {
   "cell_type": "markdown",
   "id": "651a94a2-b56b-4af6-b3eb-b2e79b1b4bc8",
   "metadata": {},
   "source": [
    "##  Installation de Jupyter Notebook sous Cygwin"
   ]
  },
  {
   "cell_type": "code",
   "execution_count": 1,
   "id": "4a997245-bf2b-4229-8f8f-8e4f6e334d03",
   "metadata": {},
   "outputs": [
    {
     "name": "stdout",
     "output_type": "stream",
     "text": [
      "Installer : commande introuvable\n",
      "Python 3.9.13 (main, Oct 13 2022, 21:15:33) \n",
      "[GCC 11.2.0] :: Anaconda, Inc. on linux\n",
      "Type \"help\", \"copyright\", \"credits\" or \"license\" for more information.\n",
      ">>> \n",
      "KeyboardInterrupt\n",
      ">>> \n"
     ]
    }
   ],
   "source": [
    "Installer Jupyter Notebook sur Cygwin en suivant ces étapes :\n",
    "    1. Assurez-vous que Python est installé sur votre système Cygwin en exécutant la commande `python` dans le terminal."
   ]
  },
  {
   "cell_type": "code",
   "execution_count": null,
   "id": "f7cdeae8-6a68-40ba-95f6-c35978d2cca8",
   "metadata": {},
   "outputs": [],
   "source": [
    "apt-cyg install python "
   ]
  },
  {
   "cell_type": "markdown",
   "id": "0a8bce3d-4294-4f09-afae-dc1d0dd42627",
   "metadata": {},
   "source": [
    "### Installez pip en exécutant la commande suivante dans le terminal :"
   ]
  },
  {
   "cell_type": "code",
   "execution_count": null,
   "id": "0d1fee1a-3462-4c78-8adf-4c18562f08c2",
   "metadata": {},
   "outputs": [],
   "source": [
    "curl https://bootstrap.pypa.io/get-pip.py -o get-pip.py\n",
    "python get-pip.py"
   ]
  },
  {
   "cell_type": "markdown",
   "id": "616adc23-e91b-42cf-ae11-8c9f7e5b6e62",
   "metadata": {},
   "source": [
    "### Installez Jupyter en exécutant la commande suivante dans le terminal :"
   ]
  },
  {
   "cell_type": "code",
   "execution_count": null,
   "id": "c9ce45d1-2585-4a5c-b42f-1760d7ddd691",
   "metadata": {},
   "outputs": [],
   "source": [
    "pip install jupyter\n",
    "# Installez un noyau Bash en exécutant la commande suivante :\n",
    "pip install bash_kernel\n",
    "# Exécutez la commande suivante pour ajouter le noyau Bash à Jupyter : \n",
    "python -m bash_kernel.install"
   ]
  },
  {
   "cell_type": "markdown",
   "id": "26f3b1e5-51bd-4b09-84a8-b81e6a5fe60c",
   "metadata": {},
   "source": [
    "### Exécutez Jupyter Notebook en utilisant la commande suivante dans le terminal :"
   ]
  },
  {
   "cell_type": "code",
   "execution_count": null,
   "id": "d7c7b291-b45e-47d2-9afe-abbea6ee0eb1",
   "metadata": {},
   "outputs": [],
   "source": [
    "jupyter notebook\n",
    "### Exécutez Jupyter Notebook en utilisant la commande suivante dans le terminal :\n",
    "# Accédez à Jupyter Notebook en utilisant un navigateur web à l'adresse `http://localhost:8888/`."
   ]
  },
  {
   "cell_type": "markdown",
   "id": "cc0dc7b0-035a-4c54-9e37-7b31cca1463c",
   "metadata": {},
   "source": [
    "## Les commandes de base de LINUX"
   ]
  },
  {
   "cell_type": "markdown",
   "id": "7418eb0e-7cef-4ad1-b41f-54c75baae1e0",
   "metadata": {},
   "source": [
    "Vous avez [ici](https://github.com/Ezechiel-Tibiri/GNU-LINUX/blob/main/cmd_linux.md)\n",
    " les commandes de bases LINUX"
   ]
  }
 ],
 "metadata": {
  "kernelspec": {
   "display_name": "Bash",
   "language": "bash",
   "name": "bash"
  },
  "language_info": {
   "codemirror_mode": "shell",
   "file_extension": ".sh",
   "mimetype": "text/x-sh",
   "name": "bash"
  },
  "toc-autonumbering": true,
  "toc-showcode": true,
  "toc-showmarkdowntxt": true,
  "toc-showtags": false
 },
 "nbformat": 4,
 "nbformat_minor": 5
}
