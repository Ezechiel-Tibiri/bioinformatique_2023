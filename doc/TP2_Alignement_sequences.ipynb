{
 "cells": [
  {
   "cell_type": "markdown",
   "id": "ed10dc2d-2049-4249-af84-08079ea30215",
   "metadata": {},
   "source": [
    "# Alignement de séquences : Théorie et applications"
   ]
  },
  {
   "cell_type": "markdown",
   "id": "9dcc5a46-69bb-41f0-a6b5-d89725260486",
   "metadata": {},
   "source": [
    "L'alignement de séquences est une tâche fondamentale en bioinformatique qui consiste à comparer deux ou plusieurs séquences de nucléotides ou d'acides aminés pour en déduire des similitudes et des différences. Cette technique est utilisée pour étudier l'évolution des espèces, identifier des gènes ou des protéines similaires, concevoir des médicaments, prédire la structure des protéines, etc.\n"
   ]
  },
  {
   "cell_type": "markdown",
   "id": "3b5e0e6f-f365-423d-ab24-03a92d0fa0c5",
   "metadata": {},
   "source": [
    "## La théorie de l'alignement de séquences"
   ]
  },
  {
   "cell_type": "markdown",
   "id": "178e3729-3cbb-41f2-986c-bdb2390e504e",
   "metadata": {},
   "source": [
    "Elle repose sur l'hypothèse que des séquences similaires ont une origine évolutive commune, c'est-à-dire qu'elles ont évolué à partir d'un ancêtre commun. Les changements évolutifs dans les séquences peuvent être des substitutions de nucléotides ou d'acides aminés, des insertions ou des suppressions de bases ou de résidus, des duplications de gènes, des délétions, des inversions, etc.\n",
    "Les méthodes d'alignement de séquences peuvent être classées en deux catégories : alignement global et alignement local."
   ]
  },
  {
   "cell_type": "markdown",
   "id": "4722db47-2954-4d45-b8e8-5eb4dfc1ff43",
   "metadata": {},
   "source": [
    "### Alignement global"
   ]
  },
  {
   "cell_type": "markdown",
   "id": "5b925814-e504-42ef-9965-283c5f2e55a6",
   "metadata": {},
   "source": [
    "L'alignement global vise à aligner deux séquences entières en maximisant les similitudes sur toute la longueur des séquences"
   ]
  },
  {
   "cell_type": "markdown",
   "id": "f568da7e-3764-46d3-9511-7276e166e389",
   "metadata": {},
   "source": [
    "### Alignement local"
   ]
  },
  {
   "cell_type": "markdown",
   "id": "2525cf42-e5e2-42e2-9544-4f425c058e38",
   "metadata": {},
   "source": [
    "L'alignement local vise à aligner les régions similaires de deux séquences en minimisant les différences dans les régions non similaires. L'alignement local est utile pour détecter des motifs de séquence, des sites de liaison à l'ADN, des domaines protéiques conservés, etc."
   ]
  },
  {
   "cell_type": "markdown",
   "id": "efdaea39-cb8d-4de5-b7eb-195871715d08",
   "metadata": {},
   "source": [
    "## Les algorithmes d'alignement de séquences"
   ]
  },
  {
   "cell_type": "markdown",
   "id": "88ce4091-7c1e-47f8-b0f2-ce95d29bf06c",
   "metadata": {},
   "source": [
    "Les algorithmes d'alignement de séquences les plus couramment utilisés sont l'algorithme de <span style=\"color:red\">**Needleman-Wunsch**</span> pour l'alignement global et l'algorithme de <span style=\"color:red\">**Smith-Waterman**</span> pour l'alignement local. Ces algorithmes sont basés sur la programmation dynamique, qui permet de calculer le meilleur alignement en utilisant une matrice de scores de substitution et en explorant toutes les possibilités d'alignement.\n",
    "\n",
    "Il existe de nombreux outils en ligne et en logiciel libre pour effectuer des alignements de séquences, tels que <span style=\"color:green\">BLAST, ClustalW, MUSCLE, MAFFT, MEGA11</span>... Ces outils permettent de comparer des séquences de différentes tailles et de différentes origines, en fournissant des scores de similitude, des matrices de distance, des arbres phylogénétiques"
   ]
  },
  {
   "cell_type": "markdown",
   "id": "9c042545-18b0-405d-b411-c1f3af27a3e1",
   "metadata": {},
   "source": [
    "## TP : Alignement de séquences avec MAFFT"
   ]
  },
  {
   "cell_type": "markdown",
   "id": "99eb4cb0-7643-4ee8-9627-1a692d653e28",
   "metadata": {},
   "source": [
    "Le but de ce TP est d'utiliser l'outil en ligne MAFFT pour aligner des séquences d'ADN et de protéines, puis de construire des arbres phylogénétiques pour étudier la relation évolutionnaire entre les espèces."
   ]
  },
  {
   "cell_type": "code",
   "execution_count": null,
   "id": "06582353-9620-4bd9-981a-ae94e838af79",
   "metadata": {},
   "outputs": [],
   "source": [
    "# Installation de MAFFT sous Windows avec Cygwin\n",
    "apt-cyg install wget gcc-g++ make libbz2-devel zlib-devel\n",
    "# Téléchargez la dernière version de MAFFT à partir du site web officiel de MAFFT \n",
    "wget https://mafft.cbrc.jp/alignment/software/mafft-VERSION-with-extensions-src.tgz\n",
    "# Extrayez l'archive MAFFT que vous avez téléchargée\n",
    "tar -zxvf mafft-VERSION-with-extensions-src.tgz\n",
    "# Deplacez vous dans le répertoire MAFFT que vous venez d'extraire\n",
    "cd mafft-VERSION-with-extensions\n",
    "# Compilez et installez MAFFT \n",
    "./configure --enable-extensions --prefix=/usr/local/mafft\n",
    "make\n",
    "make install\n",
    "# endre l'exécutable MAFFT disponible dans votre environnement\n",
    "export PATH=$PATH:/usr/local/mafft/bin"
   ]
  },
  {
   "cell_type": "markdown",
   "id": "f456060f-5d42-4319-80cb-ffd5facccf8e",
   "metadata": {},
   "source": [
    "Téléchargez l'installateur de <span style=\"color:red\">MEGA11</span> pour Windows depuis le site web officiel de MEGA (https://www.megasoftware.net/). Cliquez sur le bouton \"Download\" sur la page d'accueil pour accéder à la page de téléchargement.\n",
    "\n",
    "Suivez les instructions d'installation de MEGA11 pour Windows pour installer MEGA11 sur votre ordinateur Windows."
   ]
  },
  {
   "cell_type": "code",
   "execution_count": null,
   "id": "f10bc6e6-e387-429a-b1e4-72b82c5e3c51",
   "metadata": {},
   "outputs": [],
   "source": [
    "mafft --help"
   ]
  },
  {
   "cell_type": "code",
   "execution_count": null,
   "id": "96b26d1b-2f85-4536-a1db-ba57594b2ec9",
   "metadata": {},
   "outputs": [],
   "source": []
  },
  {
   "cell_type": "code",
   "execution_count": null,
   "id": "8edf8f27-bba0-4a2d-9ea3-a1d4c38a9307",
   "metadata": {},
   "outputs": [],
   "source": []
  },
  {
   "cell_type": "code",
   "execution_count": null,
   "id": "added394-4d65-4bd2-869e-efaaea582d02",
   "metadata": {},
   "outputs": [],
   "source": []
  },
  {
   "cell_type": "code",
   "execution_count": null,
   "id": "caf969d0-bee8-4106-82a8-cb42c51851ca",
   "metadata": {},
   "outputs": [],
   "source": []
  },
  {
   "cell_type": "markdown",
   "id": "5d9b3e4c-69d9-4e48-af23-84449285a4aa",
   "metadata": {},
   "source": [
    "### A vous les commandes pour réaliser l'alignement"
   ]
  },
  {
   "cell_type": "markdown",
   "id": "62059707-f327-4e7a-8e0a-9d66e81b73bc",
   "metadata": {},
   "source": [
    "Aller sur https://www.expasy.org/proteomics\n",
    "\n",
    "Rechercher HSF1\n",
    "\n",
    "Cliquer sur (UniProtKB)\n",
    "\n",
    "Récupérer les séquences de protéines de différents organismes (par exemple \"Facteur de choc thermique 1\" ou \"HSF1\")\n",
    "\n",
    "Cela vous amènera sur http://www.uniprot.org/uniprot/?query=HSF1&sort=score\n",
    "\n",
    "Sélectionner l'organisme (Humain, Rat, Souris, Arabidopsis, Poulet, Cochon...)\n",
    "\n",
    "Cliquer sur Télécharger (Télécharger la sélection) puis enregistrer au format FASTA dans un seul fichier texte.\n",
    "\n",
    "Aligner les séquences à l'aide de mafft (en ligne de commande), puis MEGA11 (en mode grapgique)\n"
   ]
  },
  {
   "cell_type": "markdown",
   "id": "ae4ab3af-2eac-42b0-bf27-34d99b60b518",
   "metadata": {},
   "source": [
    "### Construction de l'arbre phylogénétique"
   ]
  },
  {
   "cell_type": "markdown",
   "id": "56dbc7b9-e738-4e47-a9ec-74ea95c4f164",
   "metadata": {},
   "source": [
    "\n",
    "Vérifier l'arbre phylogénétique basé sur le gène\n",
    "\n",
    "Ajouter une séquence non apparentée (Out Group)\n",
    "\n",
    "Vérifier les modifications de l'arbre phylogénétique basé sur le gène."
   ]
  },
  {
   "cell_type": "code",
   "execution_count": null,
   "id": "2403a9e3-22d8-47a4-a2ca-c607f460ca22",
   "metadata": {},
   "outputs": [],
   "source": [
    "# Utiliser MEGA11 en ligne de commande sur le cluster"
   ]
  },
  {
   "cell_type": "code",
   "execution_count": null,
   "id": "617d1a2f-0ff5-4290-ba90-3eab6e892eb3",
   "metadata": {},
   "outputs": [],
   "source": []
  },
  {
   "cell_type": "code",
   "execution_count": null,
   "id": "803ed51e-decc-4b01-b0bf-a80f0576e96f",
   "metadata": {},
   "outputs": [],
   "source": []
  },
  {
   "cell_type": "code",
   "execution_count": null,
   "id": "76f80656-3988-4270-9b39-e106818cf143",
   "metadata": {},
   "outputs": [],
   "source": []
  },
  {
   "cell_type": "code",
   "execution_count": null,
   "id": "b331b7ff-9c7e-4b3e-8bc0-f95228d8611a",
   "metadata": {},
   "outputs": [],
   "source": []
  }
 ],
 "metadata": {
  "kernelspec": {
   "display_name": "Bash",
   "language": "bash",
   "name": "bash"
  },
  "language_info": {
   "codemirror_mode": "shell",
   "file_extension": ".sh",
   "mimetype": "text/x-sh",
   "name": "bash"
  }
 },
 "nbformat": 4,
 "nbformat_minor": 5
}
